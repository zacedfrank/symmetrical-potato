{
 "cells": [
  {
   "cell_type": "markdown",
   "id": "ddb84416-dac1-455f-8f00-6273aab711f0",
   "metadata": {},
   "source": [
    "# Scraping Reuters Business News Articles for Select Companies"
   ]
  },
  {
   "cell_type": "code",
   "execution_count": 1,
   "id": "5109aa4d-038c-4517-b84c-1eee527a7a0c",
   "metadata": {},
   "outputs": [],
   "source": [
    "import requests\n",
    "import random\n",
    "\n",
    "from bs4 import BeautifulSoup as bs\n",
    "import pandas as pd\n",
    "\n",
    "import urllib.request\n",
    "from datetime import datetime\n",
    "from selenium import webdriver\n",
    "from webdriver_manager.chrome import ChromeDriverManager\n",
    "from selenium.webdriver.chrome.options import Options\n",
    "from selenium.webdriver.common.by import By\n",
    "from selenium.webdriver.support.ui import WebDriverWait\n",
    "from selenium.webdriver.support import expected_conditions as EC\n",
    "from selenium.common.exceptions import NoSuchElementException\n",
    "from selenium.common.exceptions import StaleElementReferenceException"
   ]
  },
  {
   "cell_type": "code",
   "execution_count": 22,
   "id": "1aa2b0a4-0f2f-4213-b93c-3450c0634589",
   "metadata": {},
   "outputs": [
    {
     "name": "stdout",
     "output_type": "stream",
     "text": [
      "Logged in\n"
     ]
    }
   ],
   "source": [
    "# open up a selenium browser and log in to Reuters - free account to access all articles\n",
    "username = \"username\" #\n",
    "password = \"password\" #\n",
    "\n",
    "chrome_options = Options()\n",
    "chrome_options.add_argument(\"--headless\")\n",
    "chrome_options.add_argument(\"--disable-dev-shm-usage\")\n",
    "chrome_options.add_argument(\"--no-sandbox\")\n",
    "prefs = {\"profile.managed_default_content_settings.images\": 2}\n",
    "chrome_options.add_experimental_option(\"prefs\", prefs)\n",
    "driver = webdriver.Chrome('chromedriver', options = chrome_options)\n",
    "wait = WebDriverWait(driver, 30)\n",
    "driver.get(\"https://www.reuters.com/account/sign-in\")\n",
    "wait.until(EC.element_to_be_clickable((By.NAME, \"email\"))).send_keys(username)\n",
    "wait.until(EC.element_to_be_clickable((By.NAME, \"password\"))).send_keys(password)\n",
    "wait.until(EC.element_to_be_clickable((By.XPATH, '//span[contains(text(), \"Sign in\")]'))).click()\n",
    "print(\"Logged in\")"
   ]
  },
  {
   "cell_type": "code",
   "execution_count": 5,
   "id": "2bc2ff4e-ec01-4b2e-8c56-a14225689684",
   "metadata": {},
   "outputs": [],
   "source": [
    "# set begin and end dates of articles to scrape - in this case we are doing 3 months prior and 3 months after ChatGPT launched on Nov 30, 2022\n",
    "enddate = datetime(2023,2,28)\n",
    "startdate = datetime(2022,9,1)"
   ]
  },
  {
   "cell_type": "code",
   "execution_count": 6,
   "id": "ca36e972-fbef-445d-b739-0b37d14fe919",
   "metadata": {},
   "outputs": [],
   "source": [
    "# selected some popular companies since we wanted to get a large number of articles\n",
    "search_companies = ['Netflix', 'Microsoft', 'Apple', 'Twitter', 'Google', 'Tesla']"
   ]
  },
  {
   "cell_type": "code",
   "execution_count": 14,
   "id": "d997f669-7e68-48cf-bbb4-3ed622f73a35",
   "metadata": {
    "tags": []
   },
   "outputs": [
    {
     "name": "stdout",
     "output_type": "stream",
     "text": [
      "Netflix links saved\n",
      "Microsoft links saved\n",
      "Apple links saved\n",
      "Twitter links saved\n",
      "Google links saved\n",
      "Tesla links saved\n",
      "All Article Links Saved!\n"
     ]
    }
   ],
   "source": [
    "links = []\n",
    "dates = []\n",
    "companies = []\n",
    "\n",
    "root = 'https://www.reuters.com' # used for updating the link to the articles in the dataframe\n",
    "\n",
    "for s in search_companies:\n",
    "\n",
    "    driver.get('https://www.reuters.com/site-search/?query='+s+'&section=business&offset=0&date=past_year')\n",
    "    \n",
    "    time.sleep(random.uniform(2,5))\n",
    "    html = driver.page_source\n",
    "    soup = bs(html, 'html.parser')\n",
    "    results = int(soup.find('div', class_=\"search-results__subtitle__3k4lv\").text.split()[0])\n",
    "    offsets = [x for x in range(0, results, 20)] #20 articles per page, need to iterate over \n",
    "\n",
    "\n",
    "    for o in offsets:    \n",
    "        url2 = 'https://www.reuters.com/site-search/?query='+s+'&section=business&offset='+str(o)+'&date=past_year'\n",
    "\n",
    "        driver.get(url2)\n",
    "\n",
    "        #print(driver.title) # used this in testing that the code was working\n",
    "        time.sleep(random.uniform(2,4))\n",
    "        html = driver.page_source # Get the html of the page\n",
    "\n",
    "        soup = bs(html, 'html.parser')\n",
    "            \n",
    "        b = soup.find_all('div', class_='media-story-card__body__3tRWy')\n",
    "\n",
    "\n",
    "        for article in b:\n",
    "            date = article.find('time').attrs['datetime']\n",
    "            date = date.split(\"T\")[0]\n",
    "            date = datetime.strptime(date, '%Y-%m-%d')\n",
    "            if enddate > date > startdate:\n",
    "                link = root+article.find('a', href=True)['href']\n",
    "                # fill in the lists\n",
    "                links.append(link)\n",
    "                dates.append(date)\n",
    "                companies.append(s)\n",
    "                \n",
    "                \n",
    "    print(s, 'links saved')\n",
    "    \n",
    "    \n",
    "print('All Article Links Saved!')\n",
    "\n",
    "#driver.quit() # Close the browser if just getting the links, but need it open to get the artilce text below"
   ]
  },
  {
   "cell_type": "code",
   "execution_count": 23,
   "id": "16444b52-1a1a-49a9-b65d-0427a9d233b9",
   "metadata": {},
   "outputs": [
    {
     "name": "stdout",
     "output_type": "stream",
     "text": [
      "2718\n"
     ]
    }
   ],
   "source": [
    "print(len(links))"
   ]
  },
  {
   "cell_type": "code",
   "execution_count": 24,
   "id": "89c20911-c8bc-4bb4-9ec5-7625eaca0602",
   "metadata": {},
   "outputs": [],
   "source": [
    "articles = []\n",
    "\n",
    "for link in links:\n",
    "    driver.get(link)\n",
    "    html = driver.page_source\n",
    "    \n",
    "    time.sleep(random.uniform(3,5)) # let the page load\n",
    "    soup = bs(html, 'html.parser')\n",
    "    \n",
    "    para = soup.find_all('p', class_=\"text__text__1FZLe text__dark-grey__3Ml43 text__regular__2N1Xr text__large__nEccO body__full_width__ekUdw body__large_body__FV5_X article-body__element__2p5pI\")\n",
    "    \n",
    "    article_text = ''\n",
    "    \n",
    "    for p in para:\n",
    "        article_text += p.text\n",
    "    articles.append(article_text)\n",
    "    \n",
    "\n",
    "driver.quit() # Close the browser"
   ]
  },
  {
   "cell_type": "code",
   "execution_count": 25,
   "id": "d78829a9-f4a7-4038-a18b-252986b98030",
   "metadata": {},
   "outputs": [
    {
     "data": {
      "text/html": [
       "<div>\n",
       "<style scoped>\n",
       "    .dataframe tbody tr th:only-of-type {\n",
       "        vertical-align: middle;\n",
       "    }\n",
       "\n",
       "    .dataframe tbody tr th {\n",
       "        vertical-align: top;\n",
       "    }\n",
       "\n",
       "    .dataframe thead th {\n",
       "        text-align: right;\n",
       "    }\n",
       "</style>\n",
       "<table border=\"1\" class=\"dataframe\">\n",
       "  <thead>\n",
       "    <tr style=\"text-align: right;\">\n",
       "      <th></th>\n",
       "      <th>company</th>\n",
       "      <th>date</th>\n",
       "      <th>article</th>\n",
       "      <th>link</th>\n",
       "    </tr>\n",
       "  </thead>\n",
       "  <tbody>\n",
       "    <tr>\n",
       "      <th>0</th>\n",
       "      <td>Netflix</td>\n",
       "      <td>2023-02-24</td>\n",
       "      <td>SINGAPORE, Feb 24 (Reuters) - U.S streaming gi...</td>\n",
       "      <td>https://www.reuters.com/technology/netflix-mak...</td>\n",
       "    </tr>\n",
       "    <tr>\n",
       "      <th>1</th>\n",
       "      <td>Netflix</td>\n",
       "      <td>2023-02-24</td>\n",
       "      <td>Feb 23 (Reuters) - Wall Street ended a topsy-t...</td>\n",
       "      <td>https://www.reuters.com/markets/us/futures-ris...</td>\n",
       "    </tr>\n",
       "    <tr>\n",
       "      <th>2</th>\n",
       "      <td>Netflix</td>\n",
       "      <td>2023-02-23</td>\n",
       "      <td>MEXICO CITY, Feb 23 (Reuters) - Grupo Televisa...</td>\n",
       "      <td>https://www.reuters.com/business/media-telecom...</td>\n",
       "    </tr>\n",
       "    <tr>\n",
       "      <th>3</th>\n",
       "      <td>Netflix</td>\n",
       "      <td>2023-02-23</td>\n",
       "      <td>Feb 23 (Reuters) - Netflix Inc (NFLX.O) said o...</td>\n",
       "      <td>https://www.reuters.com/business/media-telecom...</td>\n",
       "    </tr>\n",
       "    <tr>\n",
       "      <th>4</th>\n",
       "      <td>Netflix</td>\n",
       "      <td>2023-02-23</td>\n",
       "      <td>BRUSSELS, Feb 23 (Reuters) - The European Comm...</td>\n",
       "      <td>https://www.reuters.com/technology/eu-eyes-big...</td>\n",
       "    </tr>\n",
       "  </tbody>\n",
       "</table>\n",
       "</div>"
      ],
      "text/plain": [
       "   company       date                                            article  \\\n",
       "0  Netflix 2023-02-24  SINGAPORE, Feb 24 (Reuters) - U.S streaming gi...   \n",
       "1  Netflix 2023-02-24  Feb 23 (Reuters) - Wall Street ended a topsy-t...   \n",
       "2  Netflix 2023-02-23  MEXICO CITY, Feb 23 (Reuters) - Grupo Televisa...   \n",
       "3  Netflix 2023-02-23  Feb 23 (Reuters) - Netflix Inc (NFLX.O) said o...   \n",
       "4  Netflix 2023-02-23  BRUSSELS, Feb 23 (Reuters) - The European Comm...   \n",
       "\n",
       "                                                link  \n",
       "0  https://www.reuters.com/technology/netflix-mak...  \n",
       "1  https://www.reuters.com/markets/us/futures-ris...  \n",
       "2  https://www.reuters.com/business/media-telecom...  \n",
       "3  https://www.reuters.com/business/media-telecom...  \n",
       "4  https://www.reuters.com/technology/eu-eyes-big...  "
      ]
     },
     "execution_count": 25,
     "metadata": {},
     "output_type": "execute_result"
    }
   ],
   "source": [
    "data = pd.DataFrame({'company':companies,'date':dates,'article':articles,'link':links})\n",
    "data.head()"
   ]
  },
  {
   "cell_type": "code",
   "execution_count": 26,
   "id": "99ceea37-40f6-432c-9afa-247be798b8e6",
   "metadata": {},
   "outputs": [],
   "source": [
    "data.to_csv('news_articles.csv', index=False)"
   ]
  }
 ],
 "metadata": {
  "kernelspec": {
   "display_name": "Python 3 (ipykernel)",
   "language": "python",
   "name": "python3"
  },
  "language_info": {
   "codemirror_mode": {
    "name": "ipython",
    "version": 3
   },
   "file_extension": ".py",
   "mimetype": "text/x-python",
   "name": "python",
   "nbconvert_exporter": "python",
   "pygments_lexer": "ipython3",
   "version": "3.11.0"
  }
 },
 "nbformat": 4,
 "nbformat_minor": 5
}
